{
 "cells": [
  {
   "cell_type": "code",
   "execution_count": null,
   "id": "ef0bc0bb",
   "metadata": {},
   "outputs": [],
   "source": [
    "import sys\n",
    "import pandas as pd\n",
    "import numpy as np"
   ]
  },
  {
   "cell_type": "code",
   "execution_count": null,
   "id": "ff68da35",
   "metadata": {},
   "outputs": [],
   "source": [
    "data = pd.read_csv('./train.csv', encoding = 'big5')\n",
    "data = data.iloc[:, 3:]\n",
    "data[data == 'NR'] = 0\n",
    "raw_data = data.to_numpy()"
   ]
  },
  {
   "cell_type": "code",
   "execution_count": null,
   "id": "8aee9aaa",
   "metadata": {},
   "outputs": [],
   "source": [
    "dayFlatten_data = np.empty([18,24*20*12])\n",
    "for month in range(12):\n",
    "  for day in range(20):\n",
    "    dayFlatten_data[:, (month*20+day)*24:(month*20+day)*24+24] = raw_data[18*(20*month+day):18*(20*month+day+1), 0:24]"
   ]
  },
  {
   "cell_type": "code",
   "execution_count": null,
   "id": "624a4625",
   "metadata": {},
   "outputs": [],
   "source": [
    "x = np.empty([12*471, 18*9], dtype=float)\n",
    "y = np.empty([12*471, 1], dtype=float)\n",
    "for month in range(12):\n",
    "    for day in range(20):\n",
    "        for hour in range(24):\n",
    "            if day == 19 and hour > 14:\n",
    "                continue\n",
    "            x[month * 471 + day * 24 + hour, :] = dayFlatten_data[:,day * 24 + hour : day * 24 + hour + 9].flatten()\n",
    "            y[month * 471 + day * 24 + hour, 0] = dayFlatten_data[9, day * 24 + hour + 9]\n",
    "print(x)\n",
    "print(y)"
   ]
  },
  {
   "cell_type": "code",
   "execution_count": null,
   "id": "8159cb0d",
   "metadata": {},
   "outputs": [],
   "source": [
    "import matplotlib.pyplot as plt\n",
    "from sklearn.linear_model import LinearRegression\n",
    "hyper_parameter = {\n",
    "    \"learning_rate\" : 0.001,\n",
    "    # \"learning_rate\" : 1e-5,\n",
    "    \"n_iterations\" : 1000,\n",
    "    \"gamma1\" : 0.9,\n",
    "    \"gamma2\" : 0.999,\n",
    "    \"eps\" : 1e-8,\n",
    "}\n",
    "\n",
    "dim = 18 * 9 + 1\n",
    "w = np.zeros([dim,1])\n",
    "x_b = np.concatenate((np.ones((x.shape[0], 1)), x), axis=1)\n",
    "print(x_b)\n",
    "m = x_b.shape[0]\n",
    "grad_momentum = np.zeros_like(w)\n",
    "grad_RMSProp = np.zeros_like(w)\n",
    "losses = []\n",
    "for i in range(hyper_parameter[\"n_iterations\"]):\n",
    "  loss = np.sqrt(np.mean(((x_b @ w) - y) ** 2))\n",
    "\n",
    "  if np.isnan(loss) or np.isinf(loss):\n",
    "    print(f\"Stopping early due to numerical instability at iteration {i}\")\n",
    "    break\n",
    "  losses.append(loss)\n",
    "\n",
    "  if i % 100 == 0:\n",
    "    print(str(i) + ':' + str(loss))\n",
    "\n",
    "  gradient = 2 / m * (x_b.T @ (x_b @ w - y))\n",
    "  grad_momentum = hyper_parameter[\"gamma1\"] * grad_momentum + (1 - hyper_parameter[\"gamma1\"]) * gradient\n",
    "  grad_RMSProp = np.sqrt(hyper_parameter[\"gamma2\"] * (grad_RMSProp ** 2) + (1-hyper_parameter[\"gamma2\"]) * (gradient ** 2))\n",
    "  # w = w - hyper_parameter[\"learning_rate\"] * grad_momentum\n",
    "  w = w - hyper_parameter[\"learning_rate\"] * grad_momentum / (grad_RMSProp + hyper_parameter[\"eps\"])\n",
    "\n",
    "print(str(hyper_parameter[\"n_iterations\"]) + ':' + str(loss))\n",
    "\n",
    "np.save('weight.npy', w)\n",
    "\n",
    "plt.plot(losses)\n",
    "plt.xlabel(\"Iteration\")\n",
    "plt.ylabel(\"RMSE Loss\")\n",
    "plt.title(\"Loss Curve over Iterations\")\n",
    "plt.grid()\n",
    "plt.show()"
   ]
  },
  {
   "cell_type": "code",
   "execution_count": null,
   "id": "c032e9fc",
   "metadata": {},
   "outputs": [],
   "source": [
    "testdata = pd.read_csv('./test.csv', header = None, encoding = 'big5')\n",
    "test_data = testdata.iloc[:, 2:]\n",
    "test_data[test_data == 'NR'] = 0\n",
    "test_data = test_data.to_numpy()\n",
    "test_x = np.empty([240, 18*9], dtype = float)\n",
    "for i in range(240):\n",
    "    test_x[i, :] = test_data[18 * i: 18* (i + 1), :].reshape(1, -1)\n",
    "# for i in range(len(test_x)):\n",
    "#     for j in range(len(test_x[0])):\n",
    "#         if std_x[j] != 0:\n",
    "#             test_x[i][j] = (test_x[i][j] - mean_x[j]) / std_x[j]\n",
    "test_x = np.concatenate((np.ones([240, 1]), test_x), axis = 1).astype(float)\n",
    "test_x"
   ]
  },
  {
   "cell_type": "code",
   "execution_count": null,
   "id": "ec2435b0",
   "metadata": {},
   "outputs": [],
   "source": [
    "# print(f\"Shape of test_x: {test_x.shape}\")\n",
    "w = np.load('weight.npy')\n",
    "ans_y = np.dot(test_x, w)\n",
    "ans_y"
   ]
  },
  {
   "cell_type": "code",
   "execution_count": null,
   "id": "aaa86233",
   "metadata": {},
   "outputs": [],
   "source": [
    "import csv\n",
    "with open('submit.csv', mode='w', newline='') as submit_file:\n",
    "    csv_writer = csv.writer(submit_file)\n",
    "    header = ['id', 'value']\n",
    "    print(header)\n",
    "    csv_writer.writerow(header)\n",
    "    for i in range(240):\n",
    "        row = ['id_' + str(i), ans_y[i][0]]\n",
    "        csv_writer.writerow(row)\n",
    "        print(row)"
   ]
  }
 ],
 "metadata": {
  "kernelspec": {
   "display_name": ".venv",
   "language": "python",
   "name": "python3"
  },
  "language_info": {
   "name": "python",
   "version": "3.9.13"
  }
 },
 "nbformat": 4,
 "nbformat_minor": 5
}
