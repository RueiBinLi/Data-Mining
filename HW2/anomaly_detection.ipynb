{
 "cells": [
  {
   "cell_type": "code",
   "execution_count": null,
   "id": "d0b64370",
   "metadata": {},
   "outputs": [],
   "source": [
    "from sklearn.svm import OneClassSVM\n",
    "from sklearn.neighbors import NearestNeighbors\n",
    "from sklearn.metrics import accuracy_score, confusion_matrix, roc_auc_score\n",
    "from torchvision import transforms\n",
    "from torch.utils.data import DataLoader, TensorDataset\n",
    "from PIL import Image\n",
    "import os\n",
    "import numpy as np\n",
    "import torch\n",
    "import matplotlib as olt\n",
    "import torch.nn as nn"
   ]
  },
  {
   "cell_type": "markdown",
   "id": "0b475564",
   "metadata": {},
   "source": [
    "#### Data Path"
   ]
  },
  {
   "cell_type": "code",
   "execution_count": null,
   "id": "93491dc5",
   "metadata": {},
   "outputs": [],
   "source": [
    "dataset_path = './mvtec_anomaly_detection/'"
   ]
  },
  {
   "cell_type": "code",
   "execution_count": null,
   "id": "d32a7886",
   "metadata": {},
   "outputs": [],
   "source": [
    "# print('Training Set: \\t\\t' + ', '.join(train_set))\n",
    "# print('Testing Folders: \\t' + ', '.join(test_folders))\n",
    "# print('Ground Truth Folders \\t' + ', '.join(ground_truth_folders))"
   ]
  },
  {
   "cell_type": "markdown",
   "id": "c6757540",
   "metadata": {},
   "source": [
    "# Pre-Processing & Data augmentation"
   ]
  },
  {
   "cell_type": "code",
   "execution_count": null,
   "id": "4947cdc4",
   "metadata": {},
   "outputs": [],
   "source": [
    "transform_pipeline = transforms.Compose([\n",
    "    transforms.RandomHorizontalFlip(p=0.5),\n",
    "    transforms.RandomVerticalFlip(p=0.5),\n",
    "    transforms.ToTensor(),\n",
    "])"
   ]
  },
  {
   "cell_type": "markdown",
   "id": "5de3e118",
   "metadata": {},
   "source": [
    "#### Read image and convert it to gray image"
   ]
  },
  {
   "cell_type": "code",
   "execution_count": null,
   "id": "d69d7dcc",
   "metadata": {},
   "outputs": [],
   "source": [
    "img_height, img_width, img_channels = 256, 256, 1\n",
    "X, y_good, y_bad, ground_truth = [], [], [], []\n",
    "all_items = os.listdir(dataset_path)\n",
    "class_names = [item for item in all_items \n",
    "               if os.path.isdir(os.path.join(dataset_path, item))]\n",
    "\n",
    "for class_name in class_names:\n",
    "    train_path = dataset_path + class_name + '/train/good/'\n",
    "\n",
    "    test_path = dataset_path + class_name + '/test/'\n",
    "\n",
    "    ground_truth_path = dataset_path + class_name + '/ground_truth/'\n",
    "\n",
    "    train_set = os.listdir(train_path)\n",
    "\n",
    "    test_folders = os.listdir(test_path)\n",
    "\n",
    "    ground_truth_folders = os.listdir(ground_truth_path)\n",
    "    \n",
    "    for img_name in train_set:\n",
    "        img_path = train_path + img_name\n",
    "        img = Image.open(img_path)\n",
    "        img = img.resize((img_height, img_width))\n",
    "        img_gray = img.convert('L')\n",
    "        img_gray = transform_pipeline(img_gray)\n",
    "        X.append(img_gray)\n",
    "\n",
    "    for test_folder in test_folders:\n",
    "        test_folder_path = test_path + test_folder\n",
    "\n",
    "        for img_name in sorted(os.listdir(test_folder_path)):\n",
    "            img_path = test_folder_path + '/' + img_name\n",
    "            img = Image.open(img_path)\n",
    "            img = img.resize((img_height, img_width))\n",
    "            img_gray = img.convert('L')\n",
    "            img_gray = transform_pipeline(img_gray)\n",
    "\n",
    "            if test_folder == 'good':\n",
    "                y_good.append(img_gray)\n",
    "            else:\n",
    "                y_bad.append(img_gray)\n",
    "            \n",
    "    for ground_truth_folder in ground_truth_folders:\n",
    "        ground_truth_folder_path = ground_truth_path + ground_truth_folder\n",
    "\n",
    "        for img_name in sorted(os.listdir(ground_truth_folder_path)):\n",
    "            img_path = ground_truth_folder_path + '/' + img_name\n",
    "            img = Image.open(img_path)\n",
    "            img = img.resize((img_height, img_width))\n",
    "            img_gray = img.convert('L')\n",
    "            img_gray = transform_pipeline(img_gray)\n",
    "            ground_truth.append(img_gray)\n",
    "\n",
    "print(\"Training: \\t\\t\", np.shape(X))\n",
    "print(\"Good Testing: \\t\\t\", np.shape(y_good))\n",
    "print(\"Bad Testing: \\t\\t\", np.shape(y_bad))\n",
    "print(\"Ground Truth: \\t\\t\", np.shape(ground_truth))"
   ]
  },
  {
   "cell_type": "code",
   "execution_count": null,
   "id": "8d4e2ae0",
   "metadata": {},
   "outputs": [],
   "source": [
    "print(X[0])"
   ]
  },
  {
   "cell_type": "markdown",
   "id": "b1438276",
   "metadata": {},
   "source": [
    "# SVM"
   ]
  },
  {
   "cell_type": "code",
   "execution_count": null,
   "id": "78f62484",
   "metadata": {},
   "outputs": [],
   "source": [
    "X_tensor = torch.stack(X)\n",
    "y_good_tensor = torch.stack(y_good)\n",
    "y_bad_tensor = torch.stack(y_bad)\n",
    "\n",
    "n_features = img_height * img_width\n",
    "X_train_features = X_tensor.reshape(-1, n_features)\n",
    "y_good_features = y_good_tensor.reshape(-1, n_features)\n",
    "y_bad_features = y_bad_tensor.reshape(-1, n_features)\n",
    "\n",
    "X_train_features = X_train_features.detach().cpu().numpy()\n",
    "y_good_features = y_good_features.detach().cpu().numpy()\n",
    "y_bad_features = y_bad_features.detach().cpu().numpy()\n",
    "\n",
    "print(\"Training feature shape: \\t\", X_train_features.shape)\n",
    "print(\"Good test feature shape: \\t\", y_good_features.shape)\n",
    "print(\"Bad test feature shape: \\t\", y_bad_features.shape)"
   ]
  },
  {
   "cell_type": "code",
   "execution_count": null,
   "id": "58e4eebd",
   "metadata": {},
   "outputs": [],
   "source": [
    "print(\"Training One-Class SVM...\")\n",
    "svm = OneClassSVM(kernel='rbf', nu=0.1, gamma='auto')\n",
    "\n",
    "svm.fit(X_train_features)\n",
    "print(\"SVM training complete\")"
   ]
  },
  {
   "cell_type": "code",
   "execution_count": null,
   "id": "d7721fcd",
   "metadata": {},
   "outputs": [],
   "source": [
    "X_test_features = np.concatenate((y_good_features, y_bad_features), axis=0)\n",
    "\n",
    "labels_good = np.zeros(y_good_features.shape[0])\n",
    "labels_bad = np.ones(y_bad_features.shape[0])\n",
    "y_true_labels = np.concatenate((labels_good, labels_bad), axis=0)\n",
    "\n",
    "print(\"Total test features shape: \\t\", X_test_features.shape)\n",
    "print(\"Total test labels shape: \\t\", y_true_labels.shape)"
   ]
  },
  {
   "cell_type": "code",
   "execution_count": null,
   "id": "652401c8",
   "metadata": {},
   "outputs": [],
   "source": [
    "svm_predictions = svm.predict(X_test_features)\n",
    "\n",
    "y_pred_labels = [0 if p == 1 else 1 for p in svm_predictions]\n",
    "\n",
    "accuracy = accuracy_score(y_true_labels, y_pred_labels)\n",
    "auc = roc_auc_score(y_true_labels, y_pred_labels)\n",
    "\n",
    "print(\"--- Evaluation Results ---\")\n",
    "print(f\"Accuracy: {accuracy * 100:.2f}%\")\n",
    "print(f\"AUC Score: {auc:.4f}\")\n",
    "\n",
    "print(\"\\nConfusion Matrix:\")\n",
    "print(confusion_matrix(y_true_labels, y_pred_labels))"
   ]
  },
  {
   "cell_type": "code",
   "execution_count": null,
   "id": "5d2904df",
   "metadata": {},
   "outputs": [],
   "source": [
    "import csv\n",
    "with open('submit_SVM.csv', mode='w', newline='') as submit_file:\n",
    "    csv_writer = csv.writer(submit_file)\n",
    "    header = ['id', 'prediction']\n",
    "    print(header)\n",
    "    csv_writer.writerow(header)\n",
    "    for i in range(svm_predictions.shape[0]):\n",
    "        row = [str(i), 0 if svm_predictions[i] == -1 else 1]\n",
    "        csv_writer.writerow(row)\n",
    "        print(row)"
   ]
  },
  {
   "cell_type": "markdown",
   "id": "93788521",
   "metadata": {},
   "source": [
    "# KNN"
   ]
  },
  {
   "cell_type": "code",
   "execution_count": null,
   "id": "bf26cbfc",
   "metadata": {},
   "outputs": [],
   "source": [
    "k = 5\n",
    "\n",
    "print(\"Fitting KNN model...\")\n",
    "knn = NearestNeighbors(n_neighbors=k, n_jobs=-1)\n",
    "knn.fit(X_train_features)\n",
    "print(X_train_features)\n",
    "print(\"Model fitting complete\")"
   ]
  },
  {
   "cell_type": "code",
   "execution_count": null,
   "id": "83207b91",
   "metadata": {},
   "outputs": [],
   "source": [
    "distances, indices = knn.kneighbors(X_test_features)\n",
    "\n",
    "anomaly_scores = np.mean(distances, axis=1)\n",
    "\n",
    "print(f\"Calculated {len(anomaly_scores)} anomaly scores\")"
   ]
  },
  {
   "cell_type": "code",
   "execution_count": null,
   "id": "7e265032",
   "metadata": {},
   "outputs": [],
   "source": [
    "train_distances, _ = knn.kneighbors(X_train_features)\n",
    "train_anomaly_scores = np.mean(train_distances, axis=1)\n",
    "\n",
    "threshold = np.percentile(train_anomaly_scores, 95)\n",
    "print(f\"Anomaly Threshold set to: {threshold:.4f}\")\n",
    "\n",
    "y_pred_labels = (anomaly_scores > threshold).astype(int)\n",
    "\n",
    "accuracy = accuracy_score(y_true_labels, y_pred_labels)\n",
    "auc = roc_auc_score(y_true_labels, anomaly_scores)\n",
    "print(\"\\n--- Evaluation result ---\")\n",
    "print(f\"Accuracy: {accuracy * 100:.2f}%\")\n",
    "print(f\"AUC Score: {auc:.4f}\")\n",
    "print(\"\\nConfusion Matrix:\")\n",
    "print(confusion_matrix(y_true_labels, y_pred_labels))"
   ]
  },
  {
   "cell_type": "code",
   "execution_count": null,
   "id": "0002f9e0",
   "metadata": {},
   "outputs": [],
   "source": [
    "with open('submit_KNN.csv', mode='w', newline='') as submit_file:\n",
    "    csv_writer = csv.writer(submit_file)\n",
    "    header = ['id', 'prediction']\n",
    "    print(header)\n",
    "    csv_writer.writerow(header)\n",
    "    for i in range(svm_predictions.shape[0]):\n",
    "        row = [str(i), y_pred_labels[i]]\n",
    "        csv_writer.writerow(row)\n",
    "        print(row)"
   ]
  },
  {
   "cell_type": "markdown",
   "id": "444b8742",
   "metadata": {},
   "source": [
    "# AutoEncoder"
   ]
  },
  {
   "cell_type": "code",
   "execution_count": null,
   "id": "289b6a69",
   "metadata": {},
   "outputs": [],
   "source": [
    "class AutoEncoder(nn.Module):\n",
    "    def __init__(self):\n",
    "        super(AutoEncoder, self).__init__()\n",
    "\n",
    "        self.encoder = nn.Sequential(\n",
    "            nn.Conv2d(1, 16, kernel_size=3, stride=2, padding=1), # [N, 1, 256, 256] -> [N, 16, 128, 128]\n",
    "            nn.ReLU(True),\n",
    "            nn.Conv2d(16, 32, kernel_size=3, stride=2, padding=1), # [N, 16, 128, 128] -> [N, 32, 64, 64]\n",
    "            nn.ReLU(True),\n",
    "            nn.Conv2d(32, 64, kernel_size=3, stride=2, padding=1), # [N, 32, 64, 64] -> [N, 64, 32, 32]\n",
    "            nn.ReLU(True),\n",
    "            nn.Conv2d(64, 128, kernel_size=3, stride=2, padding=1), # [N, 64, 32, 32] -> [N, 128, 16, 16]\n",
    "            nn.ReLU(True),\n",
    "            nn.Conv2d(128, 256, kernel_size=3, stride=2, padding=1), # [N, 128, 16, 16] -> [N, 256, 8, 8]\n",
    "            nn.ReLU(True),\n",
    "        )\n",
    "\n",
    "        self.decoder = nn.Sequential(\n",
    "            nn.ConvTranspose2d(256, 128, kernel_size=3, stride=2, padding=1, output_padding=1), # [N, 256, 8, 8] -> [N, 128, 16, 16]\n",
    "            nn.ReLU(True),\n",
    "            nn.ConvTranspose2d(128, 64, kernel_size=3, stride=2, padding=1, output_padding=1), # [N, 128, 16, 16] -> [N, 64, 32, 32]\n",
    "            nn.ReLU(True),\n",
    "            nn.ConvTranspose2d(64, 32, kernel_size=3, stride=2, padding=1, output_padding=1), # [N, 64, 32, 32] -> [N, 32, 64, 64]\n",
    "            nn.ReLU(True),\n",
    "            nn.ConvTranspose2d(32, 16, kernel_size=3, stride=2, padding=1, output_padding=1), # [N, 32, 64, 64] -> [N, 16, 128,128]\n",
    "            nn.ReLU(True),\n",
    "            nn.ConvTranspose2d(16, 1, kernel_size=3, stride=2, padding=1, output_padding=1), #[N, 16, 128, 128] -> #[N, 1, 256, 256]\n",
    "            nn.Sigmoid(),\n",
    "        )\n",
    "\n",
    "    def forward(self, x):\n",
    "        x = self.encoder(x)\n",
    "        x = self.decoder(x)\n",
    "        return x"
   ]
  },
  {
   "cell_type": "code",
   "execution_count": null,
   "id": "b9d0d436",
   "metadata": {},
   "outputs": [],
   "source": [
    "num_epochs = 50\n",
    "batch_size = 64\n",
    "learning_rate = 1e-3\n",
    "\n",
    "device = torch.device(\"cuda\" if torch.cuda.is_available() else \"cpu\")\n",
    "print(f\"Using device {device}\")\n",
    "\n",
    "train_dataset = TensorDataset(X_tensor)\n",
    "train_loader = DataLoader(train_dataset, batch_size=batch_size, shuffle=True)\n",
    "\n",
    "model = AutoEncoder().to(device)\n",
    "criterion = nn.MSELoss()\n",
    "optimizer = torch.optim.Adam(model.parameters(), lr=learning_rate)\n",
    "\n",
    "print(\"--- Starting Training ---\")\n",
    "\n",
    "for epoch in range(num_epochs):\n",
    "    epoch_loss = 0.0\n",
    "    for data in train_loader:\n",
    "        images = data[0].to(device)\n",
    "\n",
    "        outputs = model(images)\n",
    "\n",
    "        loss = criterion(outputs, images)\n",
    "\n",
    "        optimizer.zero_grad()\n",
    "        loss.backward()\n",
    "        optimizer.step()\n",
    "\n",
    "        epoch_loss += loss.item() * images.size(0)\n",
    "\n",
    "    avg_epoch_loss = epoch_loss / len(train_dataset)\n",
    "    print(f\"Epoch [{epoch+1}/{num_epochs}], Loss: {avg_epoch_loss:.6f}\")\n",
    "\n",
    "print(\"--- Training Complete ---\")"
   ]
  },
  {
   "cell_type": "code",
   "execution_count": null,
   "id": "78e29d61",
   "metadata": {},
   "outputs": [],
   "source": [
    "model.eval()\n",
    "\n",
    "y_good_tensor = y_good_tensor.to(device)\n",
    "y_bad_tensor = y_bad_tensor.to(device)\n",
    "\n",
    "with torch.no_grad():\n",
    "    reconstructed_good = model(y_good_tensor)\n",
    "    reconstructed_bad = model(y_bad_tensor)\n",
    "\n",
    "    test_loss = criterion(reconstructed_good, y_good_tensor)\n",
    "\n",
    "loss_fn = nn.MSELoss(reduction='none')\n",
    "\n",
    "error_good = loss_fn(reconstructed_good, y_good_tensor)\n",
    "scores_good = torch.mean(error_good, dim=(1, 2, 3))\n",
    "\n",
    "error_bad = loss_fn(reconstructed_bad, y_bad_tensor)\n",
    "scores_bad = torch.mean(error_bad, dim=(1, 2, 3))\n",
    "\n",
    "anomaly_scores_tensor = torch.cat([scores_good, scores_bad])\n",
    "anomaly_scores_numpy = anomaly_scores_tensor.cpu().numpy()\n",
    "\n",
    "auc = roc_auc_score(y_true_labels, anomaly_scores_numpy)\n",
    "\n",
    "print(\"--- AutoEncoder Evaluation ---\")\n",
    "print(f\"AUC Score: {auc:.4f}\")\n",
    "print(f\"Testing Loss: {test_loss.item():.6f}\")"
   ]
  }
 ],
 "metadata": {
  "kernelspec": {
   "display_name": ".venv",
   "language": "python",
   "name": "python3"
  },
  "language_info": {
   "codemirror_mode": {
    "name": "ipython",
    "version": 3
   },
   "file_extension": ".py",
   "mimetype": "text/x-python",
   "name": "python",
   "nbconvert_exporter": "python",
   "pygments_lexer": "ipython3",
   "version": "3.13.5"
  }
 },
 "nbformat": 4,
 "nbformat_minor": 5
}
